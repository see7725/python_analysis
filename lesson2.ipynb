{
 "cells": [
  {
   "cell_type": "code",
   "execution_count": 4,
   "metadata": {},
   "outputs": [
    {
     "name": "stdout",
     "output_type": "stream",
     "text": [
      "10\n",
      "20\n"
     ]
    }
   ],
   "source": [
    "print(2 * (1 + 2) ** 2 - 2 ** 2 * 2)\n",
    "print((2+3)*4)\n"
   ]
  },
  {
   "cell_type": "code",
   "execution_count": 8,
   "metadata": {},
   "outputs": [
    {
     "name": "stdout",
     "output_type": "stream",
     "text": [
      "17\n"
     ]
    }
   ],
   "source": [
    "n = 1 + 5\n",
    "m = n + 5\n",
    "print(n + m)"
   ]
  },
  {
   "cell_type": "code",
   "execution_count": 15,
   "metadata": {},
   "outputs": [
    {
     "name": "stdout",
     "output_type": "stream",
     "text": [
      "<class 'str'>\n"
     ]
    },
    {
     "data": {
      "text/plain": [
       "11.0"
      ]
     },
     "execution_count": 15,
     "metadata": {},
     "output_type": "execute_result"
    }
   ],
   "source": [
    "x = input(\"請輸入X的值:\")\n",
    "print(type(x))\n",
    "float(x) + 10\n",
    "\n",
    "float( input(\"請輸入X的值:\") )"
   ]
  },
  {
   "cell_type": "code",
   "execution_count": 17,
   "metadata": {},
   "outputs": [
    {
     "name": "stdout",
     "output_type": "stream",
     "text": [
      "4 7 8.0 hello\n",
      "4 7 8.0 hello\n"
     ]
    }
   ],
   "source": [
    "print(4,7,8.0,\"hello\")\n",
    "\n",
    "print(4,\n",
    "      7,\n",
    "      8.0,\n",
    "      \"hello\")"
   ]
  },
  {
   "cell_type": "code",
   "execution_count": 18,
   "metadata": {},
   "outputs": [
    {
     "name": "stdout",
     "output_type": "stream",
     "text": [
      "4+3+5\n",
      "3+6+9\n",
      "\n",
      "1+2+3\n"
     ]
    }
   ],
   "source": [
    "print(\"4+3+5\")\n",
    "print(\"3+6+9\")\n",
    "print()\n",
    "print(\"1+2+3\")"
   ]
  },
  {
   "cell_type": "code",
   "execution_count": 19,
   "metadata": {},
   "outputs": [
    {
     "name": "stdout",
     "output_type": "stream",
     "text": [
      "半徑: 12.34\n",
      "直徑: 24.68\n",
      "圓周長: 77.53450681178\n",
      "面積: 478.3879070286826\n"
     ]
    }
   ],
   "source": [
    "radius = float(input(\"請輸入半徑:\"))\n",
    "diameter = 2 * radius\n",
    "circumference = 2 * 3.1415926585 * radius\n",
    "area = 3.1415926585 * radius ** 2\n",
    "\n",
    "print(\"半徑:\",radius)\n",
    "print(\"直徑:\",diameter)\n",
    "print(\"圓周長:\",circumference)\n",
    "print(\"面積:\",area)"
   ]
  },
  {
   "cell_type": "code",
   "execution_count": 21,
   "metadata": {},
   "outputs": [
    {
     "name": "stdout",
     "output_type": "stream",
     "text": [
      "對邊: 3.0\n",
      "鄰邊 4.0\n",
      "斜邊是 5.0\n"
     ]
    }
   ],
   "source": [
    "import math\n",
    "side = float(input(\"請輸對邊:\"))\n",
    "another_side = float(input(\"請輸鄰邊:\"))\n",
    "each_side = math.sqrt(side ** 2 + another_side ** 2)\n",
    "print(\"對邊:\",side)\n",
    "print(\"鄰邊\",another_side)\n",
    "print(\"斜邊是\",each_side)"
   ]
  },
  {
   "cell_type": "code",
   "execution_count": 20,
   "metadata": {},
   "outputs": [],
   "source": [
    "import numpy as np"
   ]
  }
 ],
 "metadata": {
  "kernelspec": {
   "display_name": "base",
   "language": "python",
   "name": "python3"
  },
  "language_info": {
   "codemirror_mode": {
    "name": "ipython",
    "version": 3
   },
   "file_extension": ".py",
   "mimetype": "text/x-python",
   "name": "python",
   "nbconvert_exporter": "python",
   "pygments_lexer": "ipython3",
   "version": "3.12.2"
  }
 },
 "nbformat": 4,
 "nbformat_minor": 2
}
