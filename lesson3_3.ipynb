{
 "cells": [
  {
   "cell_type": "code",
   "execution_count": 2,
   "metadata": {},
   "outputs": [
    {
     "data": {
      "text/plain": [
       "list"
      ]
     },
     "execution_count": 2,
     "metadata": {},
     "output_type": "execute_result"
    }
   ],
   "source": [
    "import random\n",
    "students = []\n",
    "for i in range(1,51):\n",
    "    students.append(\n",
    "        {\n",
    "            'name':f'student{i}',\n",
    "            'chinese':random.randint(50,100),\n",
    "            'english':random.randint(50,100),\n",
    "            'math':random.randint(50,100),\n",
    "            'history':random.randint(50,100),\n",
    "            'health':random.randint(50,100)\n",
    "        }\n",
    "    )\n",
    "\n",
    "type(students)"
   ]
  }
 ],
 "metadata": {
  "kernelspec": {
   "display_name": "base",
   "language": "python",
   "name": "python3"
  },
  "language_info": {
   "codemirror_mode": {
    "name": "ipython",
    "version": 3
   },
   "file_extension": ".py",
   "mimetype": "text/x-python",
   "name": "python",
   "nbconvert_exporter": "python",
   "pygments_lexer": "ipython3",
   "version": "3.12.2"
  }
 },
 "nbformat": 4,
 "nbformat_minor": 2
}
