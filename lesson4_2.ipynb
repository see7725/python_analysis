{
 "cells": [
  {
   "cell_type": "code",
   "execution_count": 3,
   "metadata": {},
   "outputs": [],
   "source": [
    "file = open(file='students.csv',encoding='utf-8')\n",
    "file.close()"
   ]
  },
  {
   "cell_type": "code",
   "execution_count": 4,
   "metadata": {},
   "outputs": [
    {
     "name": "stdout",
     "output_type": "stream",
     "text": [
      "name,chinese,english,math,history,health\n",
      "student1,78,61,68,99,72\n",
      "student2,51,90,89,82,96\n",
      "student3,58,62,55,93,56\n",
      "student4,87,82,94,95,90\n",
      "student5,56,69,85,55,90\n",
      "student6,62,80,78,80,91\n",
      "student7,90,75,82,93,99\n",
      "student8,95,82,99,61,68\n",
      "student9,69,86,94,85,94\n",
      "student10,90,82,55,91,50\n",
      "student11,75,59,84,57,65\n",
      "student12,75,90,58,63,78\n",
      "student13,80,50,63,85,97\n",
      "student14,54,71,93,81,68\n",
      "student15,86,95,63,100,83\n",
      "student16,97,82,81,73,62\n",
      "student17,57,98,81,76,61\n",
      "student18,91,98,60,81,67\n",
      "student19,100,71,50,62,53\n",
      "student20,53,80,94,96,99\n",
      "student21,53,84,61,62,83\n",
      "student22,70,95,84,53,93\n",
      "student23,65,99,81,82,97\n",
      "student24,93,69,52,61,96\n",
      "student25,72,96,82,90,57\n",
      "student26,69,97,89,59,92\n",
      "student27,83,58,59,64,65\n",
      "student28,79,84,78,55,76\n",
      "student29,66,66,90,95,93\n",
      "student30,97,52,68,96,82\n",
      "student31,88,98,50,74,68\n",
      "student32,73,51,77,74,67\n",
      "student33,95,67,100,87,88\n",
      "student34,60,58,95,83,63\n",
      "student35,77,84,86,83,90\n",
      "student36,56,51,98,58,92\n",
      "student37,99,66,74,57,94\n",
      "student38,97,73,55,82,72\n",
      "student39,98,86,50,78,60\n",
      "student40,60,85,77,69,92\n",
      "student41,58,59,53,97,81\n",
      "student42,88,73,83,56,81\n",
      "student43,51,77,66,54,85\n",
      "student44,52,58,85,65,58\n",
      "student45,95,77,60,63,60\n",
      "student46,92,50,64,69,59\n",
      "student47,53,62,93,98,59\n",
      "student48,62,78,99,100,68\n",
      "student49,90,86,89,86,50\n",
      "student50,70,64,80,79,56\n",
      "\n"
     ]
    }
   ],
   "source": [
    "with open(file='students.csv',encoding='utf-8') as file:\n",
    "    content:str = file.read()\n",
    "\n",
    "print(content)"
   ]
  }
 ],
 "metadata": {
  "kernelspec": {
   "display_name": "base",
   "language": "python",
   "name": "python3"
  },
  "language_info": {
   "codemirror_mode": {
    "name": "ipython",
    "version": 3
   },
   "file_extension": ".py",
   "mimetype": "text/x-python",
   "name": "python",
   "nbconvert_exporter": "python",
   "pygments_lexer": "ipython3",
   "version": "3.12.2"
  }
 },
 "nbformat": 4,
 "nbformat_minor": 2
}
